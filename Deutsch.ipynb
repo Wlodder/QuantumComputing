{
 "cells": [
  {
   "cell_type": "code",
   "execution_count": 1,
   "metadata": {},
   "outputs": [
    {
     "name": "stdout",
     "output_type": "stream",
     "text": [
      "{'1': 1000}\n",
      "[0, 0, 0, 1]\n",
      "Result is \n"
     ]
    },
    {
     "data": {
      "text/html": [
       "<pre style=\"word-wrap: normal;white-space: pre;background: #fff0;line-height: 1.1;font-family: &quot;Courier New&quot;,Courier,monospace\">           ░ ┌───┐ ░ ┌───┐      ░ ┌───┐┌─┐\n",
       "q_0: ──────░─┤ H ├─░─┤ X ├──■───░─┤ H ├┤M├\n",
       "     ┌───┐ ░ ├───┤ ░ └───┘┌─┴─┐ ░ └───┘└╥┘\n",
       "q_1: ┤ X ├─░─┤ H ├─░──────┤ X ├─░───────╫─\n",
       "     └───┘ ░ └───┘ ░      └───┘ ░       ║ \n",
       "c: 1/═══════════════════════════════════╩═\n",
       "                                        0 </pre>"
      ],
      "text/plain": [
       "           ░ ┌───┐ ░ ┌───┐      ░ ┌───┐┌─┐\n",
       "q_0: ──────░─┤ H ├─░─┤ X ├──■───░─┤ H ├┤M├\n",
       "     ┌───┐ ░ ├───┤ ░ └───┘┌─┴─┐ ░ └───┘└╥┘\n",
       "q_1: ┤ X ├─░─┤ H ├─░──────┤ X ├─░───────╫─\n",
       "     └───┘ ░ └───┘ ░      └───┘ ░       ║ \n",
       "c: 1/═══════════════════════════════════╩═\n",
       "                                        0 "
      ]
     },
     "execution_count": 1,
     "metadata": {},
     "output_type": "execute_result"
    }
   ],
   "source": [
    "import numpy as np\n",
    "from qiskit import (\n",
    "    QuantumCircuit,\n",
    "    execute,\n",
    "    Aer\n",
    ")\n",
    "from qiskit.quantum_info import Operator, average_gate_fidelity\n",
    "import random\n",
    "from qiskit.visualization import plot_histogram\n",
    "\n",
    "\n",
    "simulator = Aer.get_backend('qasm_simulator')\n",
    "\n",
    "constant = bool(random.randint(0, 1) == 1)\n",
    "\n",
    "# Create a Quantum circuit acting on the q register\n",
    "# 1 classical bits, 2 quantum bits\n",
    "oracle = QuantumCircuit(2,1)\n",
    "\n",
    "\n",
    "oracle.x(1)\n",
    "oracle.barrier()\n",
    "\n",
    "\n",
    "oracle.h([0,1])\n",
    "oracle.barrier()\n",
    "\n",
    "# index - function\n",
    "#     0 -    set 0\n",
    "#     1 -    set 1\n",
    "#     2 -        I\n",
    "#     3 -       NOT\n",
    "\n",
    "function = [0, 0, 0, 0]\n",
    "if constant:\n",
    "    function_index = random.randint(0, 1) \n",
    "    if function_index == 1:\n",
    "        oracle.x(1)\n",
    "    \n",
    "    function[function_index] = 1\n",
    "else:\n",
    "    function_index = random.randint(2, 3)\n",
    "    if function_index == 3:\n",
    "        oracle.x(0)\n",
    "    oracle.cx(0,1)\n",
    "    function[function_index] = 1\n",
    "\n",
    "\n",
    "oracle.barrier()\n",
    "\n",
    "oracle.h(0)\n",
    "#\n",
    "# Map the quantum measurement to the classical bits\n",
    "oracle.measure([0], [0])\n",
    "\n",
    "# Execute the circuit on the qasm simulator\n",
    "job = execute(oracle, simulator, shots=1000)\n",
    "\n",
    "# Grab the results from the job\n",
    "result = job.result()\n",
    "\n",
    "# Returns counts\n",
    "counts = result.get_counts(oracle)\n",
    "print(counts)\n",
    "print(function)\n",
    "\n",
    "if counts['1']:\n",
    "    print(\"Result is \", )\n",
    "\n",
    "# Draw the circuit\n",
    "oracle.draw()"
   ]
  },
  {
   "cell_type": "code",
   "execution_count": null,
   "metadata": {},
   "outputs": [],
   "source": []
  },
  {
   "cell_type": "code",
   "execution_count": null,
   "metadata": {},
   "outputs": [],
   "source": []
  },
  {
   "cell_type": "code",
   "execution_count": null,
   "metadata": {},
   "outputs": [],
   "source": []
  }
 ],
 "metadata": {
  "kernelspec": {
   "display_name": "Python 3",
   "language": "python",
   "name": "python3"
  },
  "language_info": {
   "codemirror_mode": {
    "name": "ipython",
    "version": 3
   },
   "file_extension": ".py",
   "mimetype": "text/x-python",
   "name": "python",
   "nbconvert_exporter": "python",
   "pygments_lexer": "ipython3",
   "version": "3.8.3"
  }
 },
 "nbformat": 4,
 "nbformat_minor": 5
}
