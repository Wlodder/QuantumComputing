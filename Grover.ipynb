{
 "cells": [
  {
   "cell_type": "code",
   "execution_count": 192,
   "metadata": {},
   "outputs": [
    {
     "data": {
      "image/png": "[encoded data removed]",
      "text/plain": [
       "<Figure size 504x360 with 1 Axes>"
      ]
     },
     "execution_count": 192,
     "metadata": {},
     "output_type": "execute_result"
    }
   ],
   "source": [
    "import numpy as np\n",
    "import math\n",
    "from qiskit import (\n",
    "    QuantumCircuit,\n",
    "    execute,\n",
    "    Aer\n",
    ")\n",
    "from qiskit.quantum_info import Operator, average_gate_fidelity\n",
    "import random\n",
    "from qiskit.visualization import plot_histogram\n",
    "\n",
    "# Sources https://www.youtube.com/watch?v=AabglvQSBR4 - Vazirani Grover\n",
    "# Nielsen and Chuang chapter 6\n",
    "\n",
    "\n",
    "n = 3\n",
    "grover_circuit = QuantumCircuit(n)\n",
    "\n",
    "def initialize_s(qc, qubits):\n",
    "    \"\"\"Apply a H-gate to 'qubits' in qc\"\"\"\n",
    "    for q in qubits:\n",
    "        qc.h(q)\n",
    "    return qc\n",
    "\n",
    "def diffuser(nqubits):\n",
    "    qc = QuantumCircuit(nqubits)\n",
    "    # Apply transformation |s> -> |00..0> (H-gates)\n",
    "    for qubit in range(nqubits):\n",
    "        qc.h(qubit)\n",
    "    # Apply transformation |00..0> -> |11..1> (X-gates)\n",
    "    for qubit in range(nqubits):\n",
    "        qc.x(qubit)\n",
    "    # Do multi-controlled-Z gate\n",
    "    qc.h(nqubits-1)\n",
    "    qc.mct(list(range(nqubits-1)), nqubits-1)  # multi-controlled-toffoli\n",
    "    qc.h(nqubits-1)\n",
    "    # Apply transformation |11..1> -> |00..0>\n",
    "    for qubit in range(nqubits):\n",
    "        qc.x(qubit)\n",
    "    # Apply transformation |00..0> -> |s>\n",
    "    for qubit in range(nqubits):\n",
    "        qc.h(qubit)\n",
    "    # We will return the diffuser as a gate\n",
    "    U_s = qc.to_gate()\n",
    "    U_s.name = \"U_s\"\n",
    "    return U_s\n",
    "\n",
    "grover_circuit = initialize_s(grover_circuit, [0,1,2])\n",
    "\n",
    "#grover_circuit.z(0)\n",
    "#grover_circuit.h(0)\n",
    "grover_circuit.h(0)\n",
    "grover_circuit.mct([1,2], 0)  # multi-controlled-toffoli for 0 in bit string \n",
    "grover_circuit.h(0)\n",
    "\n",
    "\n",
    "#grover_circuit.x(0)\n",
    "#grover_circuit.x(1)\n",
    "#grover_circuit.x(2)\n",
    "\n",
    "grover_circuit.barrier()\n",
    "\n",
    "# Diffusion operator (U_s) - Inversion about the mean\n",
    "grover_circuit.append(diffuser(n),[0,1,2])\n",
    "\n",
    "grover_circuit.measure_all()\n",
    "\n",
    "qasm_simulator = Aer.get_backend('qasm_simulator')\n",
    "shots = 1024\n",
    "results = execute(grover_circuit, backend=qasm_simulator, shots=shots).result()\n",
    "answer = results.get_counts()\n",
    "plot_histogram(answer)\n"
   ]
  },
  {
   "cell_type": "code",
   "execution_count": 191,
   "metadata": {},
   "outputs": [
    {
     "data": {
      "text/html": [
       "<pre style=\"word-wrap: normal;white-space: pre;background: #fff0;line-height: 1.1;font-family: &quot;Courier New&quot;,Courier,monospace\">        ┌───┐┌───┐┌───┐┌───┐ ░ ┌──────┐ ░ ┌─┐      \n",
       "   q_0: ┤ H ├┤ H ├┤ X ├┤ H ├─░─┤0     ├─░─┤M├──────\n",
       "        ├───┤└───┘└─┬─┘└───┘ ░ │      │ ░ └╥┘┌─┐   \n",
       "   q_1: ┤ H ├───────■────────░─┤1 U_s ├─░──╫─┤M├───\n",
       "        ├───┤       │        ░ │      │ ░  ║ └╥┘┌─┐\n",
       "   q_2: ┤ H ├───────■────────░─┤2     ├─░──╫──╫─┤M├\n",
       "        └───┘                ░ └──────┘ ░  ║  ║ └╥┘\n",
       "meas: 3/═══════════════════════════════════╩══╩══╩═\n",
       "                                           0  1  2 </pre>"
      ],
      "text/plain": [
       "        ┌───┐┌───┐┌───┐┌───┐ ░ ┌──────┐ ░ ┌─┐      \n",
       "   q_0: ┤ H ├┤ H ├┤ X ├┤ H ├─░─┤0     ├─░─┤M├──────\n",
       "        ├───┤└───┘└─┬─┘└───┘ ░ │      │ ░ └╥┘┌─┐   \n",
       "   q_1: ┤ H ├───────■────────░─┤1 U_s ├─░──╫─┤M├───\n",
       "        ├───┤       │        ░ │      │ ░  ║ └╥┘┌─┐\n",
       "   q_2: ┤ H ├───────■────────░─┤2     ├─░──╫──╫─┤M├\n",
       "        └───┘                ░ └──────┘ ░  ║  ║ └╥┘\n",
       "meas: 3/═══════════════════════════════════╩══╩══╩═\n",
       "                                           0  1  2 "
      ]
     },
     "execution_count": 191,
     "metadata": {},
     "output_type": "execute_result"
    }
   ],
   "source": [
    "grover_circuit.draw()\n"
   ]
  },
  {
   "cell_type": "code",
   "execution_count": null,
   "metadata": {},
   "outputs": [],
   "source": []
  }
 ],
 "metadata": {
  "kernelspec": {
   "display_name": "Python 3",
   "language": "python",
   "name": "python3"
  },
  "language_info": {
   "codemirror_mode": {
    "name": "ipython",
    "version": 3
   },
   "file_extension": ".py",
   "mimetype": "text/x-python",
   "name": "python",
   "nbconvert_exporter": "python",
   "pygments_lexer": "ipython3",
   "version": "3.8.3"
  }
 },
 "nbformat": 4,
 "nbformat_minor": 4
}
